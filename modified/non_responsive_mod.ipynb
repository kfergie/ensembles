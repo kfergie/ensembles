{
 "cells": [
  {
   "cell_type": "code",
   "execution_count": 1,
   "metadata": {
    "collapsed": true
   },
   "outputs": [],
   "source": [
    "import os\n",
    "import sys\n",
    "\n",
    "import numpy as np\n",
    "import pandas as pd\n",
    "import matplotlib.pyplot as plt\n",
    "\n",
    "from non_responsive_coding_mod import *"
   ]
  },
  {
   "cell_type": "code",
   "execution_count": 2,
   "metadata": {
    "collapsed": true
   },
   "outputs": [],
   "source": [
    "# drive path for Mac OS\n",
    "drive_path = '/Volumes/Brain2017/data/dynamic-brain-workshop/brain_observatory_cache/'"
   ]
  },
  {
   "cell_type": "code",
   "execution_count": 3,
   "metadata": {
    "collapsed": true
   },
   "outputs": [],
   "source": [
    "# set up brain observatory cache\n",
    "from allensdk.core.brain_observatory_cache import BrainObservatoryCache\n",
    "manifest_file = os.path.join(drive_path,'brain_observatory_manifest.json')\n",
    "boc = BrainObservatoryCache(manifest_file = manifest_file)"
   ]
  },
  {
   "cell_type": "code",
   "execution_count": 4,
   "metadata": {},
   "outputs": [
    {
     "data": {
      "text/html": [
       "<div>\n",
       "<table border=\"1\" class=\"dataframe\">\n",
       "  <thead>\n",
       "    <tr style=\"text-align: right;\">\n",
       "      <th></th>\n",
       "      <th>acquisition_age_days</th>\n",
       "      <th>cre_line</th>\n",
       "      <th>donor_name</th>\n",
       "      <th>experiment_container_id</th>\n",
       "      <th>id</th>\n",
       "      <th>imaging_depth</th>\n",
       "      <th>reporter_line</th>\n",
       "      <th>session_type</th>\n",
       "      <th>specimen_name</th>\n",
       "      <th>targeted_structure</th>\n",
       "    </tr>\n",
       "  </thead>\n",
       "  <tbody>\n",
       "    <tr>\n",
       "      <th>0</th>\n",
       "      <td>126</td>\n",
       "      <td>Emx1-IRES-Cre</td>\n",
       "      <td>296704</td>\n",
       "      <td>576714442</td>\n",
       "      <td>582838758</td>\n",
       "      <td>375</td>\n",
       "      <td>Ai93(TITL-GCaMP6f)</td>\n",
       "      <td>three_session_A</td>\n",
       "      <td>Emx1-IRES-Cre;Camk2a-tTA;Ai93-296704</td>\n",
       "      <td>VISrl</td>\n",
       "    </tr>\n",
       "    <tr>\n",
       "      <th>1</th>\n",
       "      <td>107</td>\n",
       "      <td>Emx1-IRES-Cre</td>\n",
       "      <td>296704</td>\n",
       "      <td>576714442</td>\n",
       "      <td>578431761</td>\n",
       "      <td>375</td>\n",
       "      <td>Ai93(TITL-GCaMP6f)</td>\n",
       "      <td>three_session_C2</td>\n",
       "      <td>Emx1-IRES-Cre;Camk2a-tTA;Ai93-296704</td>\n",
       "      <td>VISrl</td>\n",
       "    </tr>\n",
       "    <tr>\n",
       "      <th>2</th>\n",
       "      <td>105</td>\n",
       "      <td>Emx1-IRES-Cre</td>\n",
       "      <td>296704</td>\n",
       "      <td>576714442</td>\n",
       "      <td>577313742</td>\n",
       "      <td>375</td>\n",
       "      <td>Ai93(TITL-GCaMP6f)</td>\n",
       "      <td>three_session_B</td>\n",
       "      <td>Emx1-IRES-Cre;Camk2a-tTA;Ai93-296704</td>\n",
       "      <td>VISrl</td>\n",
       "    </tr>\n",
       "  </tbody>\n",
       "</table>\n",
       "</div>"
      ],
      "text/plain": [
       "   acquisition_age_days       cre_line donor_name  experiment_container_id  \\\n",
       "0                   126  Emx1-IRES-Cre     296704                576714442   \n",
       "1                   107  Emx1-IRES-Cre     296704                576714442   \n",
       "2                   105  Emx1-IRES-Cre     296704                576714442   \n",
       "\n",
       "          id  imaging_depth       reporter_line      session_type  \\\n",
       "0  582838758            375  Ai93(TITL-GCaMP6f)   three_session_A   \n",
       "1  578431761            375  Ai93(TITL-GCaMP6f)  three_session_C2   \n",
       "2  577313742            375  Ai93(TITL-GCaMP6f)   three_session_B   \n",
       "\n",
       "                          specimen_name targeted_structure  \n",
       "0  Emx1-IRES-Cre;Camk2a-tTA;Ai93-296704              VISrl  \n",
       "1  Emx1-IRES-Cre;Camk2a-tTA;Ai93-296704              VISrl  \n",
       "2  Emx1-IRES-Cre;Camk2a-tTA;Ai93-296704              VISrl  "
      ]
     },
     "execution_count": 4,
     "metadata": {},
     "output_type": "execute_result"
    }
   ],
   "source": [
    "get_exp_container_dataframe(boc, 576714442)"
   ]
  },
  {
   "cell_type": "code",
   "execution_count": 5,
   "metadata": {
    "collapsed": true
   },
   "outputs": [],
   "source": [
    "visual_area = 'VISrl'\n",
    "exps = boc.get_experiment_containers(targeted_structures=[visual_area])\n",
    "exps_df = pd.DataFrame(exps)\n",
    "exp_list = exps_df['id'].values"
   ]
  },
  {
   "cell_type": "code",
   "execution_count": null,
   "metadata": {
    "collapsed": true
   },
   "outputs": [],
   "source": []
  }
 ],
 "metadata": {
  "kernelspec": {
   "display_name": "Python 2",
   "language": "python",
   "name": "python2"
  },
  "language_info": {
   "codemirror_mode": {
    "name": "ipython",
    "version": 2
   },
   "file_extension": ".py",
   "mimetype": "text/x-python",
   "name": "python",
   "nbconvert_exporter": "python",
   "pygments_lexer": "ipython2",
   "version": "2.7.13"
  }
 },
 "nbformat": 4,
 "nbformat_minor": 2
}
